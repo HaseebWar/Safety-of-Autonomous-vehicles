{
  "nbformat": 4,
  "nbformat_minor": 0,
  "metadata": {
    "colab": {
      "name": "SENH_CODE.ipynb",
      "provenance": [],
      "collapsed_sections": []
    },
    "kernelspec": {
      "name": "python3",
      "display_name": "Python 3"
    },
    "language_info": {
      "name": "python"
    }
  },
  "cells": [
    {
      "cell_type": "code",
      "metadata": {
        "id": "RirjAJvlGdG5"
      },
      "source": [
        "import pandas as pd\n",
        "import numpy as np\n",
        "import matplotlib.pyplot as plt\n",
        "import warnings\n",
        "warnings.filterwarnings('ignore')"
      ],
      "execution_count": null,
      "outputs": []
    },
    {
      "cell_type": "code",
      "metadata": {
        "id": "O6Bc9G5LGdoA"
      },
      "source": [
        "totalmiles=pd.read_csv('/content/totalmiles.csv')\n",
        "disengagements=pd.read_csv('/content/disengagements.csv')"
      ],
      "execution_count": null,
      "outputs": []
    },
    {
      "cell_type": "code",
      "metadata": {
        "id": "jz8DtXazHP8_"
      },
      "source": [
        "disengagements.head();"
      ],
      "execution_count": null,
      "outputs": []
    },
    {
      "cell_type": "code",
      "metadata": {
        "id": "6vV0_GuLHTL_"
      },
      "source": [
        "totalmiles.head();"
      ],
      "execution_count": null,
      "outputs": []
    },
    {
      "cell_type": "code",
      "metadata": {
        "colab": {
          "base_uri": "https://localhost:8080/"
        },
        "id": "Z5OheKLFHVE9",
        "outputId": "deb307a3-a74b-4d52-cdc8-419907ad55f7"
      },
      "source": [
        "# Total number of AV disengagements over entire duration of available data\n",
        "Total_number_of_AV_disengagements = len (disengagements.index)\n",
        "Total_number_of_AV_disengagements"
      ],
      "execution_count": null,
      "outputs": [
        {
          "output_type": "execute_result",
          "data": {
            "text/plain": [
              "1024"
            ]
          },
          "metadata": {},
          "execution_count": 5
        }
      ]
    },
    {
      "cell_type": "code",
      "metadata": {
        "colab": {
          "base_uri": "https://localhost:8080/"
        },
        "id": "MSpv_ebuHosv",
        "outputId": "b4d43176-2183-4653-ecea-73c170e80694"
      },
      "source": [
        "# Number of unique months that have recorded AV disengagements\n",
        "len(disengagements['Month'].unique())"
      ],
      "execution_count": null,
      "outputs": [
        {
          "output_type": "execute_result",
          "data": {
            "text/plain": [
              "15"
            ]
          },
          "metadata": {},
          "execution_count": 6
        }
      ]
    },
    {
      "cell_type": "code",
      "metadata": {
        "colab": {
          "base_uri": "https://localhost:8080/"
        },
        "id": "BfKXFg__Hr9s",
        "outputId": "af10b117-0ea8-4910-83e9-3e07e38ade33"
      },
      "source": [
        "# List of unique locations of AV disengagements\n",
        "disengagements['Location'].unique()"
      ],
      "execution_count": null,
      "outputs": [
        {
          "output_type": "execute_result",
          "data": {
            "text/plain": [
              "array(['urban-street', 'highway'], dtype=object)"
            ]
          },
          "metadata": {},
          "execution_count": 7
        }
      ]
    },
    {
      "cell_type": "code",
      "metadata": {
        "colab": {
          "base_uri": "https://localhost:8080/"
        },
        "id": "Ze_x6JxhHuzD",
        "outputId": "f5c896b6-b0a8-433a-d71d-19f1842f9ed0"
      },
      "source": [
        "# Number of unique causes for AV disengagements\n",
        "len(disengagements['Cause'].unique())"
      ],
      "execution_count": null,
      "outputs": [
        {
          "output_type": "execute_result",
          "data": {
            "text/plain": [
              "10"
            ]
          },
          "metadata": {},
          "execution_count": 8
        }
      ]
    },
    {
      "cell_type": "code",
      "metadata": {
        "colab": {
          "base_uri": "https://localhost:8080/"
        },
        "id": "MSrkA1_oHw5L",
        "outputId": "cf439278-1965-4092-b80a-8a3a552dcd21"
      },
      "source": [
        "# Missing values in the datasets\n",
        "disengagements.isna().sum()"
      ],
      "execution_count": null,
      "outputs": [
        {
          "output_type": "execute_result",
          "data": {
            "text/plain": [
              "Month              0\n",
              "Car                0\n",
              "Location           0\n",
              "Weather            0\n",
              "TypeOfTrigger      0\n",
              "ReactionTime     532\n",
              "Cause              0\n",
              "dtype: int64"
            ]
          },
          "metadata": {},
          "execution_count": 9
        }
      ]
    },
    {
      "cell_type": "code",
      "metadata": {
        "colab": {
          "base_uri": "https://localhost:8080/",
          "height": 248
        },
        "id": "EbUoKFJaHyyL",
        "outputId": "ba3e154f-f172-4392-9a2a-2eafbf293e10"
      },
      "source": [
        "Group_by_cause=disengagements.groupby(\"Cause\").count()\n",
        "Plot_Pie=plt.pie(Group_by_cause[\"Car\"],labels=Group_by_cause.index,autopct='%1.1f%%')"
      ],
      "execution_count": null,
      "outputs": [
        {
          "output_type": "display_data",
          "data": {
            "image/png": "[encoded data removed]",
            "text/plain": [
              "<Figure size 432x288 with 1 Axes>"
            ]
          },
          "metadata": {}
        }
      ]
    },
    {
      "cell_type": "code",
      "metadata": {
        "colab": {
          "base_uri": "https://localhost:8080/"
        },
        "id": "zMVH2PYGH1KQ",
        "outputId": "a5fe12a7-5437-4806-d30b-ec0477aabba3"
      },
      "source": [
        "# list the top 2 leading causes of disengagement\n",
        "Group_by_cause.sort_values(by=['Car'], ascending=False).index[:2]"
      ],
      "execution_count": null,
      "outputs": [
        {
          "output_type": "execute_result",
          "data": {
            "text/plain": [
              "Index(['Unwanted Driver Discomfort', 'Recklessly behaving agent'], dtype='object', name='Cause')"
            ]
          },
          "metadata": {},
          "execution_count": 11
        }
      ]
    },
    {
      "cell_type": "code",
      "metadata": {
        "colab": {
          "base_uri": "https://localhost:8080/",
          "height": 295
        },
        "id": "qEuhfgz1H30Y",
        "outputId": "13cba8cb-58a7-4ffe-f69b-7da36897c12c"
      },
      "source": [
        "# Visualize the trend of disengagement/mile over time\n",
        "'Adding Date column in datetime format'\n",
        "from datetime import date\n",
        "from time import strptime\n",
        "Date = []\n",
        "for ym in totalmiles['Month']:\n",
        "    y, m = ym.split('-')\n",
        "    Date.append(date(int(y)+2000, strptime(m,\"%b\").tm_mon,1))\n",
        "\n",
        "'Sorting data by Date'\n",
        "totalmiles['Date'] = Date\n",
        "Group_by_Month=totalmiles.groupby(\"Date\").sum()\n",
        "Group_by_Month.sort_index()\n",
        "\n",
        "'Plot to visualize the trend of disengagement/mile over time'\n",
        "plot_trend=plt.plot(Group_by_Month.index,(Group_by_Month[\"total number of disengagements\"]/Group_by_Month[\"miles driven in autonomous mode\"]))\n",
        "plt.xlabel('Time');\n",
        "plt.ylabel('Disengagement/miles');\n",
        "plt.title('Trend of Disengagement/mile over time');"
      ],
      "execution_count": null,
      "outputs": [
        {
          "output_type": "display_data",
          "data": {
            "image/png": "[encoded data removed]",
            "text/plain": [
              "<Figure size 432x288 with 1 Axes>"
            ]
          },
          "metadata": {
            "needs_background": "light"
          }
        }
      ]
    },
    {
      "cell_type": "code",
      "metadata": {
        "colab": {
          "base_uri": "https://localhost:8080/",
          "height": 295
        },
        "id": "VwfbDNOcH6DX",
        "outputId": "b226c8a6-f4cb-4a32-d607-936b734ab0c5"
      },
      "source": [
        "Dropna_disengagement = disengagements.dropna()\n",
        "hist = Dropna_disengagement.hist(column='ReactionTime', grid=False, bins=100, density = True)\n",
        "plt.xlabel('Reaction Time');\n",
        "plt.ylabel('Probability mass function');\n",
        "plt.title('Probability distribution of reaction times');"
      ],
      "execution_count": null,
      "outputs": [
        {
          "output_type": "display_data",
          "data": {
            "image/png": "[encoded data removed]",
            "text/plain": [
              "<Figure size 432x288 with 1 Axes>"
            ]
          },
          "metadata": {
            "needs_background": "light"
          }
        }
      ]
    },
    {
      "cell_type": "code",
      "metadata": {
        "colab": {
          "base_uri": "https://localhost:8080/"
        },
        "id": "WCZzwo4FH-qu",
        "outputId": "6c27a565-ce1f-4e6a-e1f0-907c7f87d03f"
      },
      "source": [
        "# For the entire duration of the dataset\n",
        "disengagements['ReactionTime'].mean(skipna=True)"
      ],
      "execution_count": null,
      "outputs": [
        {
          "output_type": "execute_result",
          "data": {
            "text/plain": [
              "0.9297703252032526"
            ]
          },
          "metadata": {},
          "execution_count": 14
        }
      ]
    },
    {
      "cell_type": "code",
      "metadata": {
        "colab": {
          "base_uri": "https://localhost:8080/",
          "height": 143
        },
        "id": "L3pft4G_IA_F",
        "outputId": "11d9b8c5-fce2-4bc9-dd7b-334773154bd5"
      },
      "source": [
        "# For the entire duration of the dataset differentiated by the location of disengagement\n",
        "Group_by_location=disengagements.groupby(\"Location\").mean()\n",
        "Group_by_location"
      ],
      "execution_count": null,
      "outputs": [
        {
          "output_type": "execute_result",
          "data": {
            "text/html": [
              "<div>\n",
              "<style scoped>\n",
              "    .dataframe tbody tr th:only-of-type {\n",
              "        vertical-align: middle;\n",
              "    }\n",
              "\n",
              "    .dataframe tbody tr th {\n",
              "        vertical-align: top;\n",
              "    }\n",
              "\n",
              "    .dataframe thead th {\n",
              "        text-align: right;\n",
              "    }\n",
              "</style>\n",
              "<table border=\"1\" class=\"dataframe\">\n",
              "  <thead>\n",
              "    <tr style=\"text-align: right;\">\n",
              "      <th></th>\n",
              "      <th>ReactionTime</th>\n",
              "    </tr>\n",
              "    <tr>\n",
              "      <th>Location</th>\n",
              "      <th></th>\n",
              "    </tr>\n",
              "  </thead>\n",
              "  <tbody>\n",
              "    <tr>\n",
              "      <th>highway</th>\n",
              "      <td>1.48000</td>\n",
              "    </tr>\n",
              "    <tr>\n",
              "      <th>urban-street</th>\n",
              "      <td>0.92865</td>\n",
              "    </tr>\n",
              "  </tbody>\n",
              "</table>\n",
              "</div>"
            ],
            "text/plain": [
              "              ReactionTime\n",
              "Location                  \n",
              "highway            1.48000\n",
              "urban-street       0.92865"
            ]
          },
          "metadata": {},
          "execution_count": 15
        }
      ]
    },
    {
      "cell_type": "code",
      "metadata": {
        "colab": {
          "base_uri": "https://localhost:8080/"
        },
        "id": "bGsdENtuICrI",
        "outputId": "b4ce6025-53dc-44c8-9dbc-afe62941c415"
      },
      "source": [
        "from scipy.stats import ttest_1samp \n",
        "tset, pval = ttest_1samp(Dropna_disengagement.ReactionTime[disengagements['TypeOfTrigger'] == 'automatic'], 1.09)\n",
        "tset, pval"
      ],
      "execution_count": null,
      "outputs": [
        {
          "output_type": "execute_result",
          "data": {
            "text/plain": [
              "(-2.0856358487615014, 0.0375284153714078)"
            ]
          },
          "metadata": {},
          "execution_count": 16
        }
      ]
    },
    {
      "cell_type": "code",
      "metadata": {
        "colab": {
          "base_uri": "https://localhost:8080/"
        },
        "id": "2y97jpIHIE-M",
        "outputId": "e17ba24f-1751-4dd7-ef2c-2ba668fd66dc"
      },
      "source": [
        "if pval < 0.05:    # significance level alpha = 0.05\n",
        "    print(\"Rejecting null hypothesis\")\n",
        "else:\n",
        "    print(\"Accepting null hypothesis\")"
      ],
      "execution_count": null,
      "outputs": [
        {
          "output_type": "stream",
          "name": "stdout",
          "text": [
            "Rejecting null hypothesis\n"
          ]
        }
      ]
    },
    {
      "cell_type": "code",
      "metadata": {
        "colab": {
          "base_uri": "https://localhost:8080/"
        },
        "id": "IM-sD-1gIGtY",
        "outputId": "d43999a0-221d-4674-dc17-de5a071bf0a5"
      },
      "source": [
        "from statsmodels.stats import weightstats as stests\n",
        "ztest, pval = stests.ztest(Dropna_disengagement.ReactionTime[disengagements['TypeOfTrigger'] == 'automatic'], x2 =None, value= 1.09)\n",
        "ztest, pval"
      ],
      "execution_count": null,
      "outputs": [
        {
          "output_type": "execute_result",
          "data": {
            "text/plain": [
              "(-2.0856358487615014, 0.037011621483563954)"
            ]
          },
          "metadata": {},
          "execution_count": 18
        }
      ]
    },
    {
      "cell_type": "code",
      "metadata": {
        "colab": {
          "base_uri": "https://localhost:8080/"
        },
        "id": "PWktdon9IJI2",
        "outputId": "b1b624fb-5ccd-43e6-a8d2-3f03cbddde1c"
      },
      "source": [
        "if pval < 0.05:    # significance level alpha = 0.05\n",
        "    print(\"Rejecting null hypothesis\")\n",
        "else:\n",
        "    print(\"Accepting null hypothesis\")"
      ],
      "execution_count": null,
      "outputs": [
        {
          "output_type": "stream",
          "name": "stdout",
          "text": [
            "Rejecting null hypothesis\n"
          ]
        }
      ]
    },
    {
      "cell_type": "code",
      "metadata": {
        "colab": {
          "base_uri": "https://localhost:8080/",
          "height": 295
        },
        "id": "O1ZoI7nhIMro",
        "outputId": "2890da96-3433-4054-af9f-e2a6041877e4"
      },
      "source": [
        "totalmiles['disengagements/mile'] = totalmiles[\"total number of disengagements\"]/totalmiles['miles driven in autonomous mode']\n",
        "hist = totalmiles.hist(column='disengagements/mile', grid=False, bins=10)\n",
        "plt.xlabel('disengagements/mile');\n",
        "plt.ylabel('Probability mass function');\n",
        "plt.title('Probability distribution of disengagements/mile');"
      ],
      "execution_count": null,
      "outputs": [
        {
          "output_type": "display_data",
          "data": {
            "image/png": "[encoded data removed]",
            "text/plain": [
              "<Figure size 432x288 with 1 Axes>"
            ]
          },
          "metadata": {
            "needs_background": "light"
          }
        }
      ]
    },
    {
      "cell_type": "code",
      "metadata": {
        "colab": {
          "base_uri": "https://localhost:8080/"
        },
        "id": "K-hTPJTCIOrM",
        "outputId": "dead9f1b-e68a-4140-851d-9dc598d7bd80"
      },
      "source": [
        "# Probability for clear day = 0.72\n",
        "P_CLEAR_DAY = 0.72\n",
        "\n",
        "# Probability for AV driving on clear days = cloudy days = 0.5\n",
        "P_AV_DRIVE_GIVEN_CLEAR_DAY = P_AV_DRIVE_GIVEN_CLOUDY_DAY = 0.5\n",
        "\n",
        "# Total miles driven\n",
        "miles_driven_auto_mode = np.sum(totalmiles['miles driven in autonomous mode'])\n",
        "\n",
        "# Miles driven on clear and cloudy days\n",
        "miles_driven_clear_day = P_CLEAR_DAY * miles_driven_auto_mode\n",
        "miles_driven_cloudy_day = (1 - P_CLEAR_DAY) * miles_driven_auto_mode\n",
        "\n",
        "# Total disengagements on clear and cloudy days\n",
        "cloudy_disengagements = disengagements.Weather[disengagements['Weather'] == 'cloudy'].count()\n",
        "clear_disengagements = disengagements.Weather[disengagements['Weather'] == 'clear'].count()\n",
        "\n",
        "# Total disengagements\n",
        "total_disengagements = np.sum(totalmiles['total number of disengagements'])\n",
        "\n",
        "# P(AV disengaged/mile and ____ day) = Total disengagements on ____ days/Miles driven on ____ days'\n",
        "P_disengaged_mile_cloudy_day = cloudy_disengagements/miles_driven_cloudy_day\n",
        "P_disengaged_mile_clear_day = clear_disengagements/miles_driven_clear_day\n",
        "\n",
        "P_disengaged_mile_cloudy_day, P_disengaged_mile_clear_day"
      ],
      "execution_count": null,
      "outputs": [
        {
          "output_type": "execute_result",
          "data": {
            "text/plain": [
              "(0.005902556775527249, 0.0005195663748517998)"
            ]
          },
          "metadata": {},
          "execution_count": 21
        }
      ]
    },
    {
      "cell_type": "code",
      "metadata": {
        "colab": {
          "base_uri": "https://localhost:8080/"
        },
        "id": "o0-tcziHIUF9",
        "outputId": "8e874b32-455f-4ecd-f3da-27ec4e69cca3"
      },
      "source": [
        "# Total disengagements on clear and cloudy days with automatic types of trigger \n",
        "cloudy_auto_disengagements = disengagements.Weather[disengagements['Weather'] == 'cloudy'][disengagements['TypeOfTrigger'] == 'automatic'].count()\n",
        "clear_auto_disengagements = disengagements.Weather[disengagements['Weather'] == 'clear'][disengagements['TypeOfTrigger'] == 'automatic'].count()\n",
        "\n",
        "# P(auto disengaged/mile and ____ day) = Total auto disengagements on ____ days/Miles driven on ____ days'\n",
        "P_auto_disengaged_mile_cloudy_day = cloudy_auto_disengagements/(miles_driven_cloudy_day)\n",
        "P_auto_disengaged_mile_clear_day = clear_auto_disengagements/(miles_driven_clear_day)\n",
        "\n",
        "P_auto_disengaged_mile_cloudy_day, P_auto_disengaged_mile_clear_day"
      ],
      "execution_count": null,
      "outputs": [
        {
          "output_type": "execute_result",
          "data": {
            "text/plain": [
              "(0.0028063653172267283, 0.00026390673008345393)"
            ]
          },
          "metadata": {},
          "execution_count": 22
        }
      ]
    },
    {
      "cell_type": "code",
      "metadata": {
        "colab": {
          "base_uri": "https://localhost:8080/"
        },
        "id": "B33HwHIbIWgx",
        "outputId": "f630de36-f2d0-4c75-9e8f-a6c4243334f6"
      },
      "source": [
        "P_12000_150 = 1 - (1-P_disengaged_mile_cloudy_day)**(80)\n",
        "P_12000_150"
      ],
      "execution_count": null,
      "outputs": [
        {
          "output_type": "execute_result",
          "data": {
            "text/plain": [
              "0.3772459723827064"
            ]
          },
          "metadata": {},
          "execution_count": 23
        }
      ]
    },
    {
      "cell_type": "code",
      "metadata": {
        "colab": {
          "base_uri": "https://localhost:8080/"
        },
        "id": "N6QPbMx9IaCU",
        "outputId": "a8dc9f77-f3be-485e-e076-7935ba21a766"
      },
      "source": [
        "'NULL      : P_disengagement_mile_clear_day - P_disengaged_mile_cloudy_day >= 0'\n",
        "'ALTERNATE : P_disengagement_mile_clear_day - P_disengaged_mile_cloudy_day <  0'\n",
        "\n",
        "# P(disengaged/mile) = Total disengagements/Total Miles\n",
        "P_disenagements_per_mile = total_disengagements/miles_driven_auto_mode\n",
        "Z = (P_disengaged_mile_clear_day - P_disengaged_mile_cloudy_day)/(P_disenagements_per_mile*(1-P_disenagements_per_mile)*((1/cloudy_disengagements)+(1/clear_disengagements)))**0.5\n",
        "\n",
        "# Z(p-value<0.05) = -1.645\n",
        "if Z < (-1.645):\n",
        "    print('Fail to reject Null Hypothesis')\n",
        "else:\n",
        "    print('Reject Null Hypothesis')"
      ],
      "execution_count": null,
      "outputs": [
        {
          "output_type": "stream",
          "name": "stdout",
          "text": [
            "Reject Null Hypothesis\n"
          ]
        }
      ]
    },
    {
      "cell_type": "code",
      "metadata": {
        "colab": {
          "base_uri": "https://localhost:8080/"
        },
        "id": "QHisVb0hIcQ8",
        "outputId": "40296d47-4365-4188-e07e-66387ea5d8d0"
      },
      "source": [
        "# Dataframe for all the disenagements on ______ days and automatic type of trigger\n",
        "cloudy_dis_auto_df = disengagements[(disengagements['Weather'] == 'cloudy')\n",
        "                                    & (disengagements['TypeOfTrigger'] == 'automatic')]\n",
        "clear_dis_auto_df = disengagements[(disengagements['Weather'] == 'clear') \n",
        "                                   & (disengagements['TypeOfTrigger'] == 'automatic')]\n",
        "\n",
        "# Dataframe for all the disenagements on cloudy/clear days and automatic type of trigger when reaction time greater than 0.6/0.9\n",
        "cloudy_dis_auto_df_06 = cloudy_dis_auto_df[cloudy_dis_auto_df['ReactionTime'] > 0.6]\n",
        "clear_dis_auto_df_09 = clear_dis_auto_df[clear_dis_auto_df['ReactionTime'] > 0.9]\n",
        "\n",
        "# Probabilities of auto dis on rt > 0.6/0.9 for cloudy/clear\n",
        "prob_cloudy_dis_auto_06 = len(cloudy_dis_auto_df_06)/len(cloudy_dis_auto_df)\n",
        "prob_clear_dis_auto_09 = len(clear_dis_auto_df_09)/len(clear_dis_auto_df)\n",
        "\n",
        "prob_cloudy_dis_auto_06, prob_clear_dis_auto_09"
      ],
      "execution_count": null,
      "outputs": [
        {
          "output_type": "execute_result",
          "data": {
            "text/plain": [
              "(0.473551637279597, 0.28125)"
            ]
          },
          "metadata": {},
          "execution_count": 25
        }
      ]
    },
    {
      "cell_type": "code",
      "metadata": {
        "colab": {
          "base_uri": "https://localhost:8080/"
        },
        "id": "_gUhn3E6Ierp",
        "outputId": "80f4ff28-c59e-41c8-d334-63c83959b8bf"
      },
      "source": [
        "# Prob(Accident|Disengaged) = P((Accident|disengaged)|cloudy) * P(cloudy) + P((Accident|disengaged)|clear) * P(clear)\n",
        "(prob_cloudy_dis_auto_06 * 0.28) + (prob_clear_dis_auto_09 * 0.72)"
      ],
      "execution_count": null,
      "outputs": [
        {
          "output_type": "execute_result",
          "data": {
            "text/plain": [
              "0.3350944584382871"
            ]
          },
          "metadata": {},
          "execution_count": 26
        }
      ]
    },
    {
      "cell_type": "code",
      "metadata": {
        "colab": {
          "base_uri": "https://localhost:8080/",
          "height": 35
        },
        "id": "iqHbmRKIIg5-",
        "outputId": "47590584-3c7b-4992-faa9-8e1cdf6031d6"
      },
      "source": [
        "# Prob(Accident) = Total disengagements on accident condition/total miles driven\n",
        "\"{:e}\".format((len(cloudy_dis_auto_df_06)+len(clear_dis_auto_df_09))/miles_driven_auto_mode)"
      ],
      "execution_count": null,
      "outputs": [
        {
          "output_type": "execute_result",
          "data": {
            "application/vnd.google.colaboratory.intrinsic+json": {
              "type": "string"
            },
            "text/plain": [
              "'4.255496e-04'"
            ]
          },
          "metadata": {},
          "execution_count": 27
        }
      ]
    },
    {
      "cell_type": "code",
      "metadata": {
        "colab": {
          "base_uri": "https://localhost:8080/"
        },
        "id": "oGB17WJWIip1",
        "outputId": "36900821-b020-4863-e0dd-a82f7e23315a"
      },
      "source": [
        "from scipy.stats import ks_2samp as ks\n",
        "\n",
        "# Reaction time when cloudy/clear day\n",
        "cloudy_rt = disengagements.ReactionTime[disengagements['Weather'] == 'cloudy'][disengagements['TypeOfTrigger'] == 'automatic']\n",
        "clear_rt = disengagements.ReactionTime[disengagements['Weather'] == 'clear'][disengagements['TypeOfTrigger'] == 'automatic']\n",
        "\n",
        "ks(cloudy_rt, clear_rt)"
      ],
      "execution_count": null,
      "outputs": [
        {
          "output_type": "execute_result",
          "data": {
            "text/plain": [
              "Ks_2sampResult(statistic=0.05622900923593619, pvalue=0.9534988141679469)"
            ]
          },
          "metadata": {},
          "execution_count": 28
        }
      ]
    },
    {
      "cell_type": "code",
      "metadata": {
        "id": "PHihHgz4Iknn"
      },
      "source": [
        "# Adding 'Class' column in the dataframe\n",
        "disengagements['Class'] = ''\n",
        "disengagements.loc[(disengagements['Cause'] == 'Incorrect behavior prediction of others') |\n",
        "                   (disengagements['Cause'] == 'Recklessly behaving agent') |\n",
        "                   (disengagements['Cause'] == 'Unwanted Driver Discomfort'),'Class'] = 'Controller'\n",
        "\n",
        "disengagements.loc[(disengagements['Cause'] == 'Adverse road surface conditions') |\n",
        "                   (disengagements['Cause'] == 'Emergency Vehicle') |\n",
        "                   (disengagements['Cause'] == 'Position Estimation Failure') |\n",
        "                   (disengagements['Cause'] == 'Incorrect Traffic Light Detection'),'Class'] = 'Perception System'\n",
        "\n",
        "disengagements.loc[(disengagements['Cause'] == 'System Tuning and Calibration') |\n",
        "                   (disengagements['Cause'] == 'Hardware Fault') |\n",
        "                   (disengagements['Cause'] == 'Software Froze'),'Class'] = 'Computer System'\n",
        "\n",
        "disengagements.head();"
      ],
      "execution_count": null,
      "outputs": []
    },
    {
      "cell_type": "code",
      "metadata": {
        "id": "Y9iKBWZGIm1p"
      },
      "source": [
        "# Creating random index between 0 to 1023 for 80-20 data split\n",
        "Train_Index_List = []\n",
        "Test_Index_List  = []\n",
        "for i in range(1,6):\n",
        "    np.random.seed(i)\n",
        "    tot = list(np.arange(0,1024,1))\n",
        "    np.random.shuffle(tot)\n",
        "    train = tot[:820]\n",
        "    test = [x for x in tot if x not in train]\n",
        "    Train_Index_List.append(train)\n",
        "    Test_Index_List.append(test)"
      ],
      "execution_count": null,
      "outputs": []
    },
    {
      "cell_type": "code",
      "metadata": {
        "id": "5aMd923fIoxQ"
      },
      "source": [
        "# Created a new data frame with required columns for Naive Bayes Model development\n",
        "NB_disengagement = disengagements[['Location','Weather','TypeOfTrigger','Class']]"
      ],
      "execution_count": null,
      "outputs": []
    },
    {
      "cell_type": "code",
      "metadata": {
        "colab": {
          "base_uri": "https://localhost:8080/",
          "height": 206
        },
        "id": "fnLmtS2gIqrZ",
        "outputId": "fcfbe70d-f296-4082-c58e-ee9dd07b891f"
      },
      "source": [
        "# Created a new dataframe for first train split from randomly generated indices\n",
        "train1 = Train_Index_List[0]\n",
        "test1  = Test_Index_List[0]\n",
        "NB_train = NB_disengagement.iloc[train1,:]\n",
        "NB_train.head()"
      ],
      "execution_count": null,
      "outputs": [
        {
          "output_type": "execute_result",
          "data": {
            "text/html": [
              "<div>\n",
              "<style scoped>\n",
              "    .dataframe tbody tr th:only-of-type {\n",
              "        vertical-align: middle;\n",
              "    }\n",
              "\n",
              "    .dataframe tbody tr th {\n",
              "        vertical-align: top;\n",
              "    }\n",
              "\n",
              "    .dataframe thead th {\n",
              "        text-align: right;\n",
              "    }\n",
              "</style>\n",
              "<table border=\"1\" class=\"dataframe\">\n",
              "  <thead>\n",
              "    <tr style=\"text-align: right;\">\n",
              "      <th></th>\n",
              "      <th>Location</th>\n",
              "      <th>Weather</th>\n",
              "      <th>TypeOfTrigger</th>\n",
              "      <th>Class</th>\n",
              "    </tr>\n",
              "  </thead>\n",
              "  <tbody>\n",
              "    <tr>\n",
              "      <th>830</th>\n",
              "      <td>urban-street</td>\n",
              "      <td>cloudy</td>\n",
              "      <td>manual</td>\n",
              "      <td>Perception System</td>\n",
              "    </tr>\n",
              "    <tr>\n",
              "      <th>795</th>\n",
              "      <td>urban-street</td>\n",
              "      <td>cloudy</td>\n",
              "      <td>automatic</td>\n",
              "      <td>Controller</td>\n",
              "    </tr>\n",
              "    <tr>\n",
              "      <th>495</th>\n",
              "      <td>urban-street</td>\n",
              "      <td>clear</td>\n",
              "      <td>automatic</td>\n",
              "      <td>Computer System</td>\n",
              "    </tr>\n",
              "    <tr>\n",
              "      <th>822</th>\n",
              "      <td>urban-street</td>\n",
              "      <td>cloudy</td>\n",
              "      <td>automatic</td>\n",
              "      <td>Perception System</td>\n",
              "    </tr>\n",
              "    <tr>\n",
              "      <th>859</th>\n",
              "      <td>urban-street</td>\n",
              "      <td>cloudy</td>\n",
              "      <td>automatic</td>\n",
              "      <td>Perception System</td>\n",
              "    </tr>\n",
              "  </tbody>\n",
              "</table>\n",
              "</div>"
            ],
            "text/plain": [
              "         Location Weather TypeOfTrigger              Class\n",
              "830  urban-street  cloudy        manual  Perception System\n",
              "795  urban-street  cloudy     automatic         Controller\n",
              "495  urban-street   clear     automatic    Computer System\n",
              "822  urban-street  cloudy     automatic  Perception System\n",
              "859  urban-street  cloudy     automatic  Perception System"
            ]
          },
          "metadata": {},
          "execution_count": 32
        }
      ]
    },
    {
      "cell_type": "code",
      "metadata": {
        "colab": {
          "base_uri": "https://localhost:8080/",
          "height": 175
        },
        "id": "RDpOyb0iIsOy",
        "outputId": "b06de6e7-3109-4adf-99e4-7c8ed3f87a3c"
      },
      "source": [
        "# Pivot table for each features vs Class to determine conditional probability table\n",
        "NB_train_Location = NB_train.pivot_table(index='Class', columns='Location', aggfunc='size', fill_value=0)\n",
        "NB_train_Weather = NB_train.pivot_table(index='Class', columns='Weather', aggfunc='size', fill_value=0)\n",
        "NB_train_TypeOfTrigger = NB_train.pivot_table(index='Class', columns='TypeOfTrigger', aggfunc='size', fill_value=0)\n",
        "\n",
        "NB_train_Location"
      ],
      "execution_count": null,
      "outputs": [
        {
          "output_type": "execute_result",
          "data": {
            "text/html": [
              "<div>\n",
              "<style scoped>\n",
              "    .dataframe tbody tr th:only-of-type {\n",
              "        vertical-align: middle;\n",
              "    }\n",
              "\n",
              "    .dataframe tbody tr th {\n",
              "        vertical-align: top;\n",
              "    }\n",
              "\n",
              "    .dataframe thead th {\n",
              "        text-align: right;\n",
              "    }\n",
              "</style>\n",
              "<table border=\"1\" class=\"dataframe\">\n",
              "  <thead>\n",
              "    <tr style=\"text-align: right;\">\n",
              "      <th>Location</th>\n",
              "      <th>highway</th>\n",
              "      <th>urban-street</th>\n",
              "    </tr>\n",
              "    <tr>\n",
              "      <th>Class</th>\n",
              "      <th></th>\n",
              "      <th></th>\n",
              "    </tr>\n",
              "  </thead>\n",
              "  <tbody>\n",
              "    <tr>\n",
              "      <th>Computer System</th>\n",
              "      <td>17</td>\n",
              "      <td>229</td>\n",
              "    </tr>\n",
              "    <tr>\n",
              "      <th>Controller</th>\n",
              "      <td>0</td>\n",
              "      <td>300</td>\n",
              "    </tr>\n",
              "    <tr>\n",
              "      <th>Perception System</th>\n",
              "      <td>0</td>\n",
              "      <td>274</td>\n",
              "    </tr>\n",
              "  </tbody>\n",
              "</table>\n",
              "</div>"
            ],
            "text/plain": [
              "Location           highway  urban-street\n",
              "Class                                   \n",
              "Computer System         17           229\n",
              "Controller               0           300\n",
              "Perception System        0           274"
            ]
          },
          "metadata": {},
          "execution_count": 33
        }
      ]
    },
    {
      "cell_type": "code",
      "metadata": {
        "colab": {
          "base_uri": "https://localhost:8080/",
          "height": 175
        },
        "id": "6YKW1vJcIt4H",
        "outputId": "c1f9425b-37a8-4bb7-d321-93ab1fa05788"
      },
      "source": [
        " NB_train_Weather"
      ],
      "execution_count": null,
      "outputs": [
        {
          "output_type": "execute_result",
          "data": {
            "text/html": [
              "<div>\n",
              "<style scoped>\n",
              "    .dataframe tbody tr th:only-of-type {\n",
              "        vertical-align: middle;\n",
              "    }\n",
              "\n",
              "    .dataframe tbody tr th {\n",
              "        vertical-align: top;\n",
              "    }\n",
              "\n",
              "    .dataframe thead th {\n",
              "        text-align: right;\n",
              "    }\n",
              "</style>\n",
              "<table border=\"1\" class=\"dataframe\">\n",
              "  <thead>\n",
              "    <tr style=\"text-align: right;\">\n",
              "      <th>Weather</th>\n",
              "      <th>clear</th>\n",
              "      <th>cloudy</th>\n",
              "    </tr>\n",
              "    <tr>\n",
              "      <th>Class</th>\n",
              "      <th></th>\n",
              "      <th></th>\n",
              "    </tr>\n",
              "  </thead>\n",
              "  <tbody>\n",
              "    <tr>\n",
              "      <th>Computer System</th>\n",
              "      <td>152</td>\n",
              "      <td>94</td>\n",
              "    </tr>\n",
              "    <tr>\n",
              "      <th>Controller</th>\n",
              "      <td>1</td>\n",
              "      <td>299</td>\n",
              "    </tr>\n",
              "    <tr>\n",
              "      <th>Perception System</th>\n",
              "      <td>0</td>\n",
              "      <td>274</td>\n",
              "    </tr>\n",
              "  </tbody>\n",
              "</table>\n",
              "</div>"
            ],
            "text/plain": [
              "Weather            clear  cloudy\n",
              "Class                           \n",
              "Computer System      152      94\n",
              "Controller             1     299\n",
              "Perception System      0     274"
            ]
          },
          "metadata": {},
          "execution_count": 34
        }
      ]
    },
    {
      "cell_type": "code",
      "metadata": {
        "colab": {
          "base_uri": "https://localhost:8080/",
          "height": 175
        },
        "id": "br_IRaigIvwv",
        "outputId": "6e473c10-4b80-4953-db85-447070976ab7"
      },
      "source": [
        "NB_train_TypeOfTrigger"
      ],
      "execution_count": null,
      "outputs": [
        {
          "output_type": "execute_result",
          "data": {
            "text/html": [
              "<div>\n",
              "<style scoped>\n",
              "    .dataframe tbody tr th:only-of-type {\n",
              "        vertical-align: middle;\n",
              "    }\n",
              "\n",
              "    .dataframe tbody tr th {\n",
              "        vertical-align: top;\n",
              "    }\n",
              "\n",
              "    .dataframe thead th {\n",
              "        text-align: right;\n",
              "    }\n",
              "</style>\n",
              "<table border=\"1\" class=\"dataframe\">\n",
              "  <thead>\n",
              "    <tr style=\"text-align: right;\">\n",
              "      <th>TypeOfTrigger</th>\n",
              "      <th>automatic</th>\n",
              "      <th>manual</th>\n",
              "    </tr>\n",
              "    <tr>\n",
              "      <th>Class</th>\n",
              "      <th></th>\n",
              "      <th></th>\n",
              "    </tr>\n",
              "  </thead>\n",
              "  <tbody>\n",
              "    <tr>\n",
              "      <th>Computer System</th>\n",
              "      <td>119</td>\n",
              "      <td>127</td>\n",
              "    </tr>\n",
              "    <tr>\n",
              "      <th>Controller</th>\n",
              "      <td>34</td>\n",
              "      <td>266</td>\n",
              "    </tr>\n",
              "    <tr>\n",
              "      <th>Perception System</th>\n",
              "      <td>228</td>\n",
              "      <td>46</td>\n",
              "    </tr>\n",
              "  </tbody>\n",
              "</table>\n",
              "</div>"
            ],
            "text/plain": [
              "TypeOfTrigger      automatic  manual\n",
              "Class                               \n",
              "Computer System          119     127\n",
              "Controller                34     266\n",
              "Perception System        228      46"
            ]
          },
          "metadata": {},
          "execution_count": 35
        }
      ]
    },
    {
      "cell_type": "code",
      "metadata": {
        "colab": {
          "base_uri": "https://localhost:8080/",
          "height": 206
        },
        "id": "8yT6e2uqIxMR",
        "outputId": "80c27d57-3322-43cf-f42a-265ea62eb124"
      },
      "source": [
        "# Calculating and creating a dataframe for storing conditional probability table\n",
        "Prior_NB_Train = pd.DataFrame(NB_train_Location.sum(axis=1)/NB_train_Location.sum().sum(), columns = ['Class'])\n",
        "Prior_NB_Train['highway'] = NB_train_Location['highway'].values/NB_train_Location.sum(axis=1)\n",
        "Prior_NB_Train['urban-street'] = NB_train_Location['urban-street'].values/NB_train_Location.sum(axis=1)\n",
        "\n",
        "Prior_NB_Train['clear'] = NB_train_Weather['clear'].values/NB_train_Weather.sum(axis=1)\n",
        "Prior_NB_Train['cloudy'] = NB_train_Weather['cloudy'].values/NB_train_Weather.sum(axis=1)\n",
        "\n",
        "Prior_NB_Train['automatic'] = NB_train_TypeOfTrigger['automatic'].values/NB_train_TypeOfTrigger.sum(axis=1)\n",
        "Prior_NB_Train['manual'] = NB_train_TypeOfTrigger['manual'].values/NB_train_TypeOfTrigger.sum(axis=1)\n",
        "Prior_NB_Train.index = NB_train_TypeOfTrigger.index\n",
        "Prior_NB_Train.columns = pd.MultiIndex(levels=[['','Location', 'Weather', 'TypeOfTrigger'], \n",
        "                                               ['Class','highway','urban-street','clear','cloudy','automatic','manual']], \n",
        "                                       codes= [[0, 1, 1, 2, 2, 3, 3], [0, 1, 2, 3, 4, 5, 6]])\n",
        "Prior_NB_Train"
      ],
      "execution_count": null,
      "outputs": [
        {
          "output_type": "execute_result",
          "data": {
            "text/html": [
              "<div>\n",
              "<style scoped>\n",
              "    .dataframe tbody tr th:only-of-type {\n",
              "        vertical-align: middle;\n",
              "    }\n",
              "\n",
              "    .dataframe tbody tr th {\n",
              "        vertical-align: top;\n",
              "    }\n",
              "\n",
              "    .dataframe thead tr th {\n",
              "        text-align: left;\n",
              "    }\n",
              "\n",
              "    .dataframe thead tr:last-of-type th {\n",
              "        text-align: right;\n",
              "    }\n",
              "</style>\n",
              "<table border=\"1\" class=\"dataframe\">\n",
              "  <thead>\n",
              "    <tr>\n",
              "      <th></th>\n",
              "      <th></th>\n",
              "      <th colspan=\"2\" halign=\"left\">Location</th>\n",
              "      <th colspan=\"2\" halign=\"left\">Weather</th>\n",
              "      <th colspan=\"2\" halign=\"left\">TypeOfTrigger</th>\n",
              "    </tr>\n",
              "    <tr>\n",
              "      <th></th>\n",
              "      <th>Class</th>\n",
              "      <th>highway</th>\n",
              "      <th>urban-street</th>\n",
              "      <th>clear</th>\n",
              "      <th>cloudy</th>\n",
              "      <th>automatic</th>\n",
              "      <th>manual</th>\n",
              "    </tr>\n",
              "    <tr>\n",
              "      <th>Class</th>\n",
              "      <th></th>\n",
              "      <th></th>\n",
              "      <th></th>\n",
              "      <th></th>\n",
              "      <th></th>\n",
              "      <th></th>\n",
              "      <th></th>\n",
              "    </tr>\n",
              "  </thead>\n",
              "  <tbody>\n",
              "    <tr>\n",
              "      <th>Computer System</th>\n",
              "      <td>0.300000</td>\n",
              "      <td>0.069106</td>\n",
              "      <td>0.930894</td>\n",
              "      <td>0.617886</td>\n",
              "      <td>0.382114</td>\n",
              "      <td>0.483740</td>\n",
              "      <td>0.516260</td>\n",
              "    </tr>\n",
              "    <tr>\n",
              "      <th>Controller</th>\n",
              "      <td>0.365854</td>\n",
              "      <td>0.000000</td>\n",
              "      <td>1.000000</td>\n",
              "      <td>0.003333</td>\n",
              "      <td>0.996667</td>\n",
              "      <td>0.113333</td>\n",
              "      <td>0.886667</td>\n",
              "    </tr>\n",
              "    <tr>\n",
              "      <th>Perception System</th>\n",
              "      <td>0.334146</td>\n",
              "      <td>0.000000</td>\n",
              "      <td>1.000000</td>\n",
              "      <td>0.000000</td>\n",
              "      <td>1.000000</td>\n",
              "      <td>0.832117</td>\n",
              "      <td>0.167883</td>\n",
              "    </tr>\n",
              "  </tbody>\n",
              "</table>\n",
              "</div>"
            ],
            "text/plain": [
              "                             Location  ... TypeOfTrigger          \n",
              "                      Class   highway  ...     automatic    manual\n",
              "Class                                  ...                        \n",
              "Computer System    0.300000  0.069106  ...      0.483740  0.516260\n",
              "Controller         0.365854  0.000000  ...      0.113333  0.886667\n",
              "Perception System  0.334146  0.000000  ...      0.832117  0.167883\n",
              "\n",
              "[3 rows x 7 columns]"
            ]
          },
          "metadata": {},
          "execution_count": 36
        }
      ]
    },
    {
      "cell_type": "code",
      "metadata": {
        "colab": {
          "base_uri": "https://localhost:8080/",
          "height": 35
        },
        "id": "s_dWrPdpIzJ_",
        "outputId": "75571d42-4a95-4bff-c12d-29732e871ece"
      },
      "source": [
        "# User-defined function for Naive Bayes Model\n",
        "def NB_Model(Input_list, df):\n",
        "    P = pd.DataFrame(df.loc[:,('','Class')].values * df.loc[:, ('Location',Input_list[0])].values * df.loc[:, ('Weather',Input_list[1])].values * df.loc[:, ('TypeOfTrigger',Input_list[2])].values,\n",
        "                     index=df.index, columns=['Probability'])\n",
        "    return P[P['Probability'] == max(P['Probability'])].index[0]\n",
        "\n",
        "# Testing Naive Bayes Model for specific set of features\n",
        "NB_Model(['urban-street', 'cloudy', 'manual'],df = Prior_NB_Train)"
      ],
      "execution_count": null,
      "outputs": [
        {
          "output_type": "execute_result",
          "data": {
            "application/vnd.google.colaboratory.intrinsic+json": {
              "type": "string"
            },
            "text/plain": [
              "'Controller'"
            ]
          },
          "metadata": {},
          "execution_count": 37
        }
      ]
    },
    {
      "cell_type": "code",
      "metadata": {
        "colab": {
          "base_uri": "https://localhost:8080/",
          "height": 206
        },
        "id": "jGCgnFtWI1cN",
        "outputId": "df4b048d-9f89-4d84-bbf7-95f7a73b412b"
      },
      "source": [
        "# Created a new dataframe for first test split from randomly generated indices\n",
        "NB_test = NB_disengagement.iloc[test1,:]\n",
        "NB_test.head()"
      ],
      "execution_count": null,
      "outputs": [
        {
          "output_type": "execute_result",
          "data": {
            "text/html": [
              "<div>\n",
              "<style scoped>\n",
              "    .dataframe tbody tr th:only-of-type {\n",
              "        vertical-align: middle;\n",
              "    }\n",
              "\n",
              "    .dataframe tbody tr th {\n",
              "        vertical-align: top;\n",
              "    }\n",
              "\n",
              "    .dataframe thead th {\n",
              "        text-align: right;\n",
              "    }\n",
              "</style>\n",
              "<table border=\"1\" class=\"dataframe\">\n",
              "  <thead>\n",
              "    <tr style=\"text-align: right;\">\n",
              "      <th></th>\n",
              "      <th>Location</th>\n",
              "      <th>Weather</th>\n",
              "      <th>TypeOfTrigger</th>\n",
              "      <th>Class</th>\n",
              "    </tr>\n",
              "  </thead>\n",
              "  <tbody>\n",
              "    <tr>\n",
              "      <th>646</th>\n",
              "      <td>urban-street</td>\n",
              "      <td>cloudy</td>\n",
              "      <td>manual</td>\n",
              "      <td>Controller</td>\n",
              "    </tr>\n",
              "    <tr>\n",
              "      <th>811</th>\n",
              "      <td>urban-street</td>\n",
              "      <td>cloudy</td>\n",
              "      <td>manual</td>\n",
              "      <td>Perception System</td>\n",
              "    </tr>\n",
              "    <tr>\n",
              "      <th>628</th>\n",
              "      <td>urban-street</td>\n",
              "      <td>cloudy</td>\n",
              "      <td>manual</td>\n",
              "      <td>Controller</td>\n",
              "    </tr>\n",
              "    <tr>\n",
              "      <th>212</th>\n",
              "      <td>urban-street</td>\n",
              "      <td>cloudy</td>\n",
              "      <td>manual</td>\n",
              "      <td>Controller</td>\n",
              "    </tr>\n",
              "    <tr>\n",
              "      <th>984</th>\n",
              "      <td>urban-street</td>\n",
              "      <td>cloudy</td>\n",
              "      <td>manual</td>\n",
              "      <td>Controller</td>\n",
              "    </tr>\n",
              "  </tbody>\n",
              "</table>\n",
              "</div>"
            ],
            "text/plain": [
              "         Location Weather TypeOfTrigger              Class\n",
              "646  urban-street  cloudy        manual         Controller\n",
              "811  urban-street  cloudy        manual  Perception System\n",
              "628  urban-street  cloudy        manual         Controller\n",
              "212  urban-street  cloudy        manual         Controller\n",
              "984  urban-street  cloudy        manual         Controller"
            ]
          },
          "metadata": {},
          "execution_count": 38
        }
      ]
    },
    {
      "cell_type": "code",
      "metadata": {
        "colab": {
          "base_uri": "https://localhost:8080/"
        },
        "id": "unZ3mlTdI3Mj",
        "outputId": "4aecde45-8dd9-460b-ffdf-269b78da16b2"
      },
      "source": [
        "# Overall accuracy of NB model generated from train1 and tested on test1\n",
        "NB_test['Predicted Class'] = [NB_Model(NB_test.iloc[i,:3].values,df=Prior_NB_Train) for i in range(len(NB_test))]\n",
        "(NB_test[\"Class\"]==NB_test[\"Predicted Class\"]).value_counts(normalize=True)[1]"
      ],
      "execution_count": null,
      "outputs": [
        {
          "output_type": "execute_result",
          "data": {
            "text/plain": [
              "0.7598039215686274"
            ]
          },
          "metadata": {},
          "execution_count": 39
        }
      ]
    },
    {
      "cell_type": "code",
      "metadata": {
        "colab": {
          "base_uri": "https://localhost:8080/",
          "height": 175
        },
        "id": "_j4pVkiQI41t",
        "outputId": "617580e7-0bf6-453d-a2ac-240f128d2604"
      },
      "source": [
        "# Generating Confusion Matrix for NB model tested on test1\n",
        "df_confusion = pd.crosstab(NB_test[\"Class\"], NB_test[\"Predicted Class\"])\n",
        "df_confusion['Predicted Accuracy'] = np.diag(df_confusion)/df_confusion.sum(axis=1)\n",
        "df_confusion.columns = pd.Index(['CS', 'C', 'PS', 'Predicted Accuracy'],\n",
        "                                dtype='object', name='Predicted Class')\n",
        "df_confusion.index = pd.Index(['CS', 'C', 'PS'],\n",
        "                                dtype='object', name='Actual Class')\n",
        "df_confusion"
      ],
      "execution_count": null,
      "outputs": [
        {
          "output_type": "execute_result",
          "data": {
            "text/html": [
              "<div>\n",
              "<style scoped>\n",
              "    .dataframe tbody tr th:only-of-type {\n",
              "        vertical-align: middle;\n",
              "    }\n",
              "\n",
              "    .dataframe tbody tr th {\n",
              "        vertical-align: top;\n",
              "    }\n",
              "\n",
              "    .dataframe thead th {\n",
              "        text-align: right;\n",
              "    }\n",
              "</style>\n",
              "<table border=\"1\" class=\"dataframe\">\n",
              "  <thead>\n",
              "    <tr style=\"text-align: right;\">\n",
              "      <th>Predicted Class</th>\n",
              "      <th>CS</th>\n",
              "      <th>C</th>\n",
              "      <th>PS</th>\n",
              "      <th>Predicted Accuracy</th>\n",
              "    </tr>\n",
              "    <tr>\n",
              "      <th>Actual Class</th>\n",
              "      <th></th>\n",
              "      <th></th>\n",
              "      <th></th>\n",
              "      <th></th>\n",
              "    </tr>\n",
              "  </thead>\n",
              "  <tbody>\n",
              "    <tr>\n",
              "      <th>CS</th>\n",
              "      <td>38</td>\n",
              "      <td>11</td>\n",
              "      <td>9</td>\n",
              "      <td>0.655172</td>\n",
              "    </tr>\n",
              "    <tr>\n",
              "      <th>C</th>\n",
              "      <td>0</td>\n",
              "      <td>47</td>\n",
              "      <td>14</td>\n",
              "      <td>0.770492</td>\n",
              "    </tr>\n",
              "    <tr>\n",
              "      <th>PS</th>\n",
              "      <td>0</td>\n",
              "      <td>15</td>\n",
              "      <td>70</td>\n",
              "      <td>0.823529</td>\n",
              "    </tr>\n",
              "  </tbody>\n",
              "</table>\n",
              "</div>"
            ],
            "text/plain": [
              "Predicted Class  CS   C  PS  Predicted Accuracy\n",
              "Actual Class                                   \n",
              "CS               38  11   9            0.655172\n",
              "C                 0  47  14            0.770492\n",
              "PS                0  15  70            0.823529"
            ]
          },
          "metadata": {},
          "execution_count": 40
        }
      ]
    },
    {
      "cell_type": "code",
      "metadata": {
        "id": "H_2TTIVbI7pY"
      },
      "source": [
        "# Running NB model on 5 random 80-20 split data and recording confusion matrix and accuracy\n",
        "Accuracy = []\n",
        "Confusion_Matrix_List = []\n",
        "for train, test in zip(Train_Index_List, Test_Index_List):\n",
        "    \n",
        "    NB_train = NB_disengagement.iloc[train,:]\n",
        "    NB_test = NB_disengagement.iloc[test,:]\n",
        "    \n",
        "    NB_train_Location = NB_train.pivot_table(index='Class', columns='Location', aggfunc='size', fill_value=0)\n",
        "    NB_train_Weather = NB_train.pivot_table(index='Class', columns='Weather', aggfunc='size', fill_value=0)\n",
        "    NB_train_TypeOfTrigger = NB_train.pivot_table(index='Class', columns='TypeOfTrigger', aggfunc='size', fill_value=0)\n",
        "    \n",
        "    Prior_NB_Train = pd.DataFrame(NB_train_Location.sum(axis=1)/NB_train_Location.sum().sum(), columns = ['Class'])\n",
        "    Prior_NB_Train['highway'] = NB_train_Location['highway'].values/NB_train_Location.sum(axis=1)\n",
        "    Prior_NB_Train['urban-street'] = NB_train_Location['urban-street'].values/NB_train_Location.sum(axis=1)\n",
        "\n",
        "    Prior_NB_Train['clear'] = NB_train_Weather['clear'].values/NB_train_Weather.sum(axis=1)\n",
        "    Prior_NB_Train['cloudy'] = NB_train_Weather['cloudy'].values/NB_train_Weather.sum(axis=1)\n",
        "\n",
        "    Prior_NB_Train['automatic'] = NB_train_TypeOfTrigger['automatic'].values/NB_train_TypeOfTrigger.sum(axis=1)\n",
        "    Prior_NB_Train['manual'] = NB_train_TypeOfTrigger['manual'].values/NB_train_TypeOfTrigger.sum(axis=1)\n",
        "    Prior_NB_Train.index = NB_train_TypeOfTrigger.index\n",
        "    \n",
        "    Prior_NB_Train.columns = pd.MultiIndex(levels=[['','Location', 'Weather', 'TypeOfTrigger'], \n",
        "                                                   ['Class','highway','urban-street','clear','cloudy','automatic','manual']], \n",
        "                                           codes= [[0, 1, 1, 2, 2, 3, 3], [0, 1, 2, 3, 4, 5, 6]])\n",
        "\n",
        "    \n",
        "    NB_test['Predicted Class'] = [NB_Model(NB_test.iloc[i,:3].values,df=Prior_NB_Train) for i in range(len(NB_test))]\n",
        "    \n",
        "    Accuracy.append((NB_test[\"Class\"]==NB_test[\"Predicted Class\"]).value_counts(normalize=True)[1])\n",
        "    \n",
        "    df_confusion = pd.crosstab(NB_test[\"Class\"], NB_test[\"Predicted Class\"])\n",
        "    df_confusion['Predicted Accuracy'] = np.diag(df_confusion)/df_confusion.sum(axis=1)\n",
        "    df_confusion.columns = pd.Index(['CS', 'C', 'PS', 'Predicted Accuracy'],\n",
        "                                dtype='object', name='Predicted Class')\n",
        "    df_confusion.index = pd.Index(['CS', 'C', 'PS'],\n",
        "                                dtype='object', name='Actual Class')\n",
        "    \n",
        "    Confusion_Matrix_List.append(df_confusion)    "
      ],
      "execution_count": null,
      "outputs": []
    },
    {
      "cell_type": "code",
      "metadata": {
        "colab": {
          "base_uri": "https://localhost:8080/"
        },
        "id": "U8f7naUHJAR9",
        "outputId": "d3d628be-1409-4d54-ae2a-0b3e1641282f"
      },
      "source": [
        "# Confusion matrix and accuracy for all five training-testing sets\n",
        "for C,A in zip(Confusion_Matrix_List, Accuracy):\n",
        "    print(C)\n",
        "    print('Total Accuracy =',A)\n",
        "    print()"
      ],
      "execution_count": null,
      "outputs": [
        {
          "output_type": "stream",
          "name": "stdout",
          "text": [
            "Predicted Class  CS   C  PS  Predicted Accuracy\n",
            "Actual Class                                   \n",
            "CS               38  11   9            0.655172\n",
            "C                 0  47  14            0.770492\n",
            "PS                0  15  70            0.823529\n",
            "Total Accuracy = 0.7598039215686274\n",
            "\n",
            "Predicted Class  CS   C  PS  Predicted Accuracy\n",
            "Actual Class                                   \n",
            "CS               43  10  11            0.671875\n",
            "C                 0  58   6            0.906250\n",
            "PS                0  13  63            0.828947\n",
            "Total Accuracy = 0.803921568627451\n",
            "\n",
            "Predicted Class  CS   C  PS  Predicted Accuracy\n",
            "Actual Class                                   \n",
            "CS               40  12  13            0.615385\n",
            "C                 0  72   8            0.900000\n",
            "PS                0  11  48            0.813559\n",
            "Total Accuracy = 0.7843137254901961\n",
            "\n",
            "Predicted Class  CS   C  PS  Predicted Accuracy\n",
            "Actual Class                                   \n",
            "CS               47   9   8            0.734375\n",
            "C                 0  65   5            0.928571\n",
            "PS                0   9  61            0.871429\n",
            "Total Accuracy = 0.8480392156862745\n",
            "\n",
            "Predicted Class  CS   C  PS  Predicted Accuracy\n",
            "Actual Class                                   \n",
            "CS               42  15  11            0.617647\n",
            "C                 0  60   5            0.923077\n",
            "PS                0  13  58            0.816901\n",
            "Total Accuracy = 0.7843137254901961\n",
            "\n"
          ]
        }
      ]
    },
    {
      "cell_type": "code",
      "metadata": {
        "colab": {
          "base_uri": "https://localhost:8080/",
          "height": 35
        },
        "id": "G2QJTdt_JDI8",
        "outputId": "8eb10976-73da-4995-8a44-3a03c61fc7c4"
      },
      "source": [
        "# Average accuracy from all five training-testing sets\n",
        "\"{:0.2f}%\".format(np.mean(Accuracy)*100)"
      ],
      "execution_count": null,
      "outputs": [
        {
          "output_type": "execute_result",
          "data": {
            "application/vnd.google.colaboratory.intrinsic+json": {
              "type": "string"
            },
            "text/plain": [
              "'79.61%'"
            ]
          },
          "metadata": {},
          "execution_count": 43
        }
      ]
    },
    {
      "cell_type": "code",
      "metadata": {
        "id": "ObUf2VLIJGIO"
      },
      "source": [
        ""
      ],
      "execution_count": null,
      "outputs": []
    }
  ]
}